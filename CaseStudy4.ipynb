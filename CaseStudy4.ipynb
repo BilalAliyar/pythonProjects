{
 "cells": [
  {
   "cell_type": "markdown",
   "id": "4245d91b",
   "metadata": {},
   "source": [
    "# Case Study on Testing of Hypothesis"
   ]
  },
  {
   "cell_type": "markdown",
   "id": "256ae4bb",
   "metadata": {},
   "source": [
    "\n",
    "\n",
    "A company started to invest in digital marketing as a new way of their product promotions.For that they collected data and decided to carry out a study on it.\n",
    "\n",
    "    ● The company wishes to clarify whether there is any increase in sales after stepping into digital marketing\n",
    "    ● The company needs to check whether there is any dependency between the features “Region” and “Manager”.\n",
    "\n",
    "Help the company to carry out their study with the help of data provided."
   ]
  },
  {
   "cell_type": "markdown",
   "id": "ce97c3e6",
   "metadata": {},
   "source": [
    "### Import packages"
   ]
  },
  {
   "cell_type": "code",
   "execution_count": 1,
   "id": "5838b196",
   "metadata": {},
   "outputs": [],
   "source": [
    "import pandas as pd\n",
    "import numpy as np\n",
    "import scipy.stats as stats"
   ]
  },
  {
   "cell_type": "markdown",
   "id": "090bb78f",
   "metadata": {},
   "source": [
    "### Import Dataset"
   ]
  },
  {
   "cell_type": "code",
   "execution_count": 2,
   "id": "20c1e6fb",
   "metadata": {},
   "outputs": [],
   "source": [
    "data = pd.read_csv(\"Sales_add.csv\")"
   ]
  },
  {
   "cell_type": "code",
   "execution_count": 3,
   "id": "46f20cfd",
   "metadata": {},
   "outputs": [
    {
     "data": {
      "text/html": [
       "<div>\n",
       "<style scoped>\n",
       "    .dataframe tbody tr th:only-of-type {\n",
       "        vertical-align: middle;\n",
       "    }\n",
       "\n",
       "    .dataframe tbody tr th {\n",
       "        vertical-align: top;\n",
       "    }\n",
       "\n",
       "    .dataframe thead th {\n",
       "        text-align: right;\n",
       "    }\n",
       "</style>\n",
       "<table border=\"1\" class=\"dataframe\">\n",
       "  <thead>\n",
       "    <tr style=\"text-align: right;\">\n",
       "      <th></th>\n",
       "      <th>Month</th>\n",
       "      <th>Region</th>\n",
       "      <th>Manager</th>\n",
       "      <th>Sales_before_digital_add(in $)</th>\n",
       "      <th>Sales_After_digital_add(in $)</th>\n",
       "    </tr>\n",
       "  </thead>\n",
       "  <tbody>\n",
       "    <tr>\n",
       "      <th>0</th>\n",
       "      <td>Month-1</td>\n",
       "      <td>Region - A</td>\n",
       "      <td>Manager - A</td>\n",
       "      <td>132921</td>\n",
       "      <td>270390</td>\n",
       "    </tr>\n",
       "    <tr>\n",
       "      <th>1</th>\n",
       "      <td>Month-2</td>\n",
       "      <td>Region - A</td>\n",
       "      <td>Manager - C</td>\n",
       "      <td>149559</td>\n",
       "      <td>223334</td>\n",
       "    </tr>\n",
       "    <tr>\n",
       "      <th>2</th>\n",
       "      <td>Month-3</td>\n",
       "      <td>Region - B</td>\n",
       "      <td>Manager - A</td>\n",
       "      <td>146278</td>\n",
       "      <td>244243</td>\n",
       "    </tr>\n",
       "    <tr>\n",
       "      <th>3</th>\n",
       "      <td>Month-4</td>\n",
       "      <td>Region - B</td>\n",
       "      <td>Manager - B</td>\n",
       "      <td>152167</td>\n",
       "      <td>231808</td>\n",
       "    </tr>\n",
       "    <tr>\n",
       "      <th>4</th>\n",
       "      <td>Month-5</td>\n",
       "      <td>Region - C</td>\n",
       "      <td>Manager - B</td>\n",
       "      <td>159525</td>\n",
       "      <td>258402</td>\n",
       "    </tr>\n",
       "    <tr>\n",
       "      <th>5</th>\n",
       "      <td>Month-6</td>\n",
       "      <td>Region - A</td>\n",
       "      <td>Manager - B</td>\n",
       "      <td>137163</td>\n",
       "      <td>256948</td>\n",
       "    </tr>\n",
       "    <tr>\n",
       "      <th>6</th>\n",
       "      <td>Month-7</td>\n",
       "      <td>Region - C</td>\n",
       "      <td>Manager - C</td>\n",
       "      <td>130625</td>\n",
       "      <td>222106</td>\n",
       "    </tr>\n",
       "    <tr>\n",
       "      <th>7</th>\n",
       "      <td>Month-8</td>\n",
       "      <td>Region - A</td>\n",
       "      <td>Manager - A</td>\n",
       "      <td>131140</td>\n",
       "      <td>230637</td>\n",
       "    </tr>\n",
       "    <tr>\n",
       "      <th>8</th>\n",
       "      <td>Month-9</td>\n",
       "      <td>Region - B</td>\n",
       "      <td>Manager - C</td>\n",
       "      <td>171259</td>\n",
       "      <td>226261</td>\n",
       "    </tr>\n",
       "    <tr>\n",
       "      <th>9</th>\n",
       "      <td>Month-10</td>\n",
       "      <td>Region - C</td>\n",
       "      <td>Manager - B</td>\n",
       "      <td>141956</td>\n",
       "      <td>193735</td>\n",
       "    </tr>\n",
       "    <tr>\n",
       "      <th>10</th>\n",
       "      <td>Month-11</td>\n",
       "      <td>Region - B</td>\n",
       "      <td>Manager - C</td>\n",
       "      <td>159339</td>\n",
       "      <td>203175</td>\n",
       "    </tr>\n",
       "    <tr>\n",
       "      <th>11</th>\n",
       "      <td>Month-12</td>\n",
       "      <td>Region - A</td>\n",
       "      <td>Manager - A</td>\n",
       "      <td>178939</td>\n",
       "      <td>276279</td>\n",
       "    </tr>\n",
       "    <tr>\n",
       "      <th>12</th>\n",
       "      <td>Month-13</td>\n",
       "      <td>Region - B</td>\n",
       "      <td>Manager - A</td>\n",
       "      <td>145062</td>\n",
       "      <td>205180</td>\n",
       "    </tr>\n",
       "    <tr>\n",
       "      <th>13</th>\n",
       "      <td>Month-14</td>\n",
       "      <td>Region - A</td>\n",
       "      <td>Manager - A</td>\n",
       "      <td>151514</td>\n",
       "      <td>253131</td>\n",
       "    </tr>\n",
       "    <tr>\n",
       "      <th>14</th>\n",
       "      <td>Month-15</td>\n",
       "      <td>Region - C</td>\n",
       "      <td>Manager - A</td>\n",
       "      <td>147463</td>\n",
       "      <td>229336</td>\n",
       "    </tr>\n",
       "    <tr>\n",
       "      <th>15</th>\n",
       "      <td>Month-16</td>\n",
       "      <td>Region - A</td>\n",
       "      <td>Manager - B</td>\n",
       "      <td>177195</td>\n",
       "      <td>187305</td>\n",
       "    </tr>\n",
       "    <tr>\n",
       "      <th>16</th>\n",
       "      <td>Month-17</td>\n",
       "      <td>Region - A</td>\n",
       "      <td>Manager - C</td>\n",
       "      <td>140862</td>\n",
       "      <td>234908</td>\n",
       "    </tr>\n",
       "    <tr>\n",
       "      <th>17</th>\n",
       "      <td>Month-18</td>\n",
       "      <td>Region - C</td>\n",
       "      <td>Manager - B</td>\n",
       "      <td>167996</td>\n",
       "      <td>191517</td>\n",
       "    </tr>\n",
       "    <tr>\n",
       "      <th>18</th>\n",
       "      <td>Month-19</td>\n",
       "      <td>Region - B</td>\n",
       "      <td>Manager - A</td>\n",
       "      <td>132135</td>\n",
       "      <td>227040</td>\n",
       "    </tr>\n",
       "    <tr>\n",
       "      <th>19</th>\n",
       "      <td>Month-20</td>\n",
       "      <td>Region - A</td>\n",
       "      <td>Manager - B</td>\n",
       "      <td>152493</td>\n",
       "      <td>212579</td>\n",
       "    </tr>\n",
       "    <tr>\n",
       "      <th>20</th>\n",
       "      <td>Month-21</td>\n",
       "      <td>Region - B</td>\n",
       "      <td>Manager - A</td>\n",
       "      <td>147425</td>\n",
       "      <td>263388</td>\n",
       "    </tr>\n",
       "    <tr>\n",
       "      <th>21</th>\n",
       "      <td>Month-22</td>\n",
       "      <td>Region - A</td>\n",
       "      <td>Manager - C</td>\n",
       "      <td>130263</td>\n",
       "      <td>243020</td>\n",
       "    </tr>\n",
       "  </tbody>\n",
       "</table>\n",
       "</div>"
      ],
      "text/plain": [
       "       Month      Region      Manager  Sales_before_digital_add(in $)  \\\n",
       "0    Month-1  Region - A  Manager - A                          132921   \n",
       "1    Month-2  Region - A  Manager - C                          149559   \n",
       "2    Month-3  Region - B  Manager - A                          146278   \n",
       "3    Month-4  Region - B  Manager - B                          152167   \n",
       "4    Month-5  Region - C  Manager - B                          159525   \n",
       "5    Month-6  Region - A  Manager - B                          137163   \n",
       "6    Month-7  Region - C  Manager - C                          130625   \n",
       "7    Month-8  Region - A  Manager - A                          131140   \n",
       "8    Month-9  Region - B  Manager - C                          171259   \n",
       "9   Month-10  Region - C  Manager - B                          141956   \n",
       "10  Month-11  Region - B  Manager - C                          159339   \n",
       "11  Month-12  Region - A  Manager - A                          178939   \n",
       "12  Month-13  Region - B  Manager - A                          145062   \n",
       "13  Month-14  Region - A  Manager - A                          151514   \n",
       "14  Month-15  Region - C  Manager - A                          147463   \n",
       "15  Month-16  Region - A  Manager - B                          177195   \n",
       "16  Month-17  Region - A  Manager - C                          140862   \n",
       "17  Month-18  Region - C  Manager - B                          167996   \n",
       "18  Month-19  Region - B  Manager - A                          132135   \n",
       "19  Month-20  Region - A  Manager - B                          152493   \n",
       "20  Month-21  Region - B  Manager - A                          147425   \n",
       "21  Month-22  Region - A  Manager - C                          130263   \n",
       "\n",
       "    Sales_After_digital_add(in $)  \n",
       "0                          270390  \n",
       "1                          223334  \n",
       "2                          244243  \n",
       "3                          231808  \n",
       "4                          258402  \n",
       "5                          256948  \n",
       "6                          222106  \n",
       "7                          230637  \n",
       "8                          226261  \n",
       "9                          193735  \n",
       "10                         203175  \n",
       "11                         276279  \n",
       "12                         205180  \n",
       "13                         253131  \n",
       "14                         229336  \n",
       "15                         187305  \n",
       "16                         234908  \n",
       "17                         191517  \n",
       "18                         227040  \n",
       "19                         212579  \n",
       "20                         263388  \n",
       "21                         243020  "
      ]
     },
     "execution_count": 3,
     "metadata": {},
     "output_type": "execute_result"
    }
   ],
   "source": [
    "data"
   ]
  },
  {
   "cell_type": "code",
   "execution_count": 4,
   "id": "17ea671e",
   "metadata": {},
   "outputs": [
    {
     "name": "stdout",
     "output_type": "stream",
     "text": [
      "<class 'pandas.core.frame.DataFrame'>\n",
      "RangeIndex: 22 entries, 0 to 21\n",
      "Data columns (total 5 columns):\n",
      " #   Column                          Non-Null Count  Dtype \n",
      "---  ------                          --------------  ----- \n",
      " 0   Month                           22 non-null     object\n",
      " 1   Region                          22 non-null     object\n",
      " 2   Manager                         22 non-null     object\n",
      " 3   Sales_before_digital_add(in $)  22 non-null     int64 \n",
      " 4   Sales_After_digital_add(in $)   22 non-null     int64 \n",
      "dtypes: int64(2), object(3)\n",
      "memory usage: 1008.0+ bytes\n"
     ]
    }
   ],
   "source": [
    "data.info()"
   ]
  },
  {
   "cell_type": "markdown",
   "id": "0f47763c",
   "metadata": {},
   "source": [
    "There are total 22 samples in the dataset and there are no null values "
   ]
  },
  {
   "cell_type": "code",
   "execution_count": 5,
   "id": "4934d10c",
   "metadata": {},
   "outputs": [
    {
     "data": {
      "text/html": [
       "<div>\n",
       "<style scoped>\n",
       "    .dataframe tbody tr th:only-of-type {\n",
       "        vertical-align: middle;\n",
       "    }\n",
       "\n",
       "    .dataframe tbody tr th {\n",
       "        vertical-align: top;\n",
       "    }\n",
       "\n",
       "    .dataframe thead th {\n",
       "        text-align: right;\n",
       "    }\n",
       "</style>\n",
       "<table border=\"1\" class=\"dataframe\">\n",
       "  <thead>\n",
       "    <tr style=\"text-align: right;\">\n",
       "      <th></th>\n",
       "      <th>Sales_before_digital_add(in $)</th>\n",
       "      <th>Sales_After_digital_add(in $)</th>\n",
       "    </tr>\n",
       "  </thead>\n",
       "  <tbody>\n",
       "    <tr>\n",
       "      <th>count</th>\n",
       "      <td>22.000000</td>\n",
       "      <td>22.000000</td>\n",
       "    </tr>\n",
       "    <tr>\n",
       "      <th>mean</th>\n",
       "      <td>149239.954545</td>\n",
       "      <td>231123.727273</td>\n",
       "    </tr>\n",
       "    <tr>\n",
       "      <th>std</th>\n",
       "      <td>14844.042921</td>\n",
       "      <td>25556.777061</td>\n",
       "    </tr>\n",
       "    <tr>\n",
       "      <th>min</th>\n",
       "      <td>130263.000000</td>\n",
       "      <td>187305.000000</td>\n",
       "    </tr>\n",
       "    <tr>\n",
       "      <th>25%</th>\n",
       "      <td>138087.750000</td>\n",
       "      <td>214960.750000</td>\n",
       "    </tr>\n",
       "    <tr>\n",
       "      <th>50%</th>\n",
       "      <td>147444.000000</td>\n",
       "      <td>229986.500000</td>\n",
       "    </tr>\n",
       "    <tr>\n",
       "      <th>75%</th>\n",
       "      <td>157627.500000</td>\n",
       "      <td>250909.000000</td>\n",
       "    </tr>\n",
       "    <tr>\n",
       "      <th>max</th>\n",
       "      <td>178939.000000</td>\n",
       "      <td>276279.000000</td>\n",
       "    </tr>\n",
       "  </tbody>\n",
       "</table>\n",
       "</div>"
      ],
      "text/plain": [
       "       Sales_before_digital_add(in $)  Sales_After_digital_add(in $)\n",
       "count                       22.000000                      22.000000\n",
       "mean                    149239.954545                  231123.727273\n",
       "std                      14844.042921                   25556.777061\n",
       "min                     130263.000000                  187305.000000\n",
       "25%                     138087.750000                  214960.750000\n",
       "50%                     147444.000000                  229986.500000\n",
       "75%                     157627.500000                  250909.000000\n",
       "max                     178939.000000                  276279.000000"
      ]
     },
     "execution_count": 5,
     "metadata": {},
     "output_type": "execute_result"
    }
   ],
   "source": [
    "data.describe()"
   ]
  },
  {
   "cell_type": "markdown",
   "id": "c4674d33",
   "metadata": {},
   "source": [
    "The average Sales_After_digital_add (231123.727273) is higher than that the average Sales_before_digital_add (149239.954545) "
   ]
  },
  {
   "cell_type": "code",
   "execution_count": 92,
   "id": "d7e23073",
   "metadata": {},
   "outputs": [
    {
     "data": {
      "text/plain": [
       "array([[<AxesSubplot:title={'center':'Sales_before_digital_add(in $)'}>,\n",
       "        <AxesSubplot:title={'center':'Sales_After_digital_add(in $)'}>]],\n",
       "      dtype=object)"
      ]
     },
     "execution_count": 92,
     "metadata": {},
     "output_type": "execute_result"
    },
    {
     "data": {
      "image/png": "[encoded data removed]",
      "text/plain": [
       "<Figure size 864x432 with 2 Axes>"
      ]
     },
     "metadata": {
      "needs_background": "light"
     },
     "output_type": "display_data"
    }
   ],
   "source": [
    "data.hist(figsize=(12,6))"
   ]
  },
  {
   "cell_type": "markdown",
   "id": "959f98db",
   "metadata": {},
   "source": [
    "##  Check whether there is any increase in sales after stepping into digital marketing"
   ]
  },
  {
   "cell_type": "code",
   "execution_count": 72,
   "id": "f6ffa73f",
   "metadata": {},
   "outputs": [],
   "source": [
    "#One tailed two sample t-Test"
   ]
  },
  {
   "cell_type": "code",
   "execution_count": 83,
   "id": "e5b9b265",
   "metadata": {},
   "outputs": [],
   "source": [
    "#Separate samples for Sales before and After the digital Advertisement"
   ]
  },
  {
   "cell_type": "code",
   "execution_count": 134,
   "id": "f107e47c",
   "metadata": {},
   "outputs": [],
   "source": [
    "salesBeforeAd = data[\"Sales_before_digital_add(in $)\"]\n",
    "salesAfterAd = data[\"Sales_After_digital_add(in $)\"]\n",
    "\n"
   ]
  },
  {
   "cell_type": "code",
   "execution_count": 98,
   "id": "e41e5123",
   "metadata": {},
   "outputs": [
    {
     "data": {
      "text/plain": [
       "count        22.000000\n",
       "mean     149239.954545\n",
       "std       14844.042921\n",
       "min      130263.000000\n",
       "25%      138087.750000\n",
       "50%      147444.000000\n",
       "75%      157627.500000\n",
       "max      178939.000000\n",
       "Name: Sales_before_digital_add(in $), dtype: float64"
      ]
     },
     "execution_count": 98,
     "metadata": {},
     "output_type": "execute_result"
    }
   ],
   "source": [
    "salesBeforeAd.describe()"
   ]
  },
  {
   "cell_type": "code",
   "execution_count": 99,
   "id": "bb8e4922",
   "metadata": {},
   "outputs": [
    {
     "data": {
      "text/plain": [
       "count        22.000000\n",
       "mean     231123.727273\n",
       "std       25556.777061\n",
       "min      187305.000000\n",
       "25%      214960.750000\n",
       "50%      229986.500000\n",
       "75%      250909.000000\n",
       "max      276279.000000\n",
       "Name: Sales_After_digital_add(in $), dtype: float64"
      ]
     },
     "execution_count": 99,
     "metadata": {},
     "output_type": "execute_result"
    }
   ],
   "source": [
    "salesAfterAd.describe()"
   ]
  },
  {
   "cell_type": "code",
   "execution_count": 133,
   "id": "91891c30",
   "metadata": {},
   "outputs": [],
   "source": [
    "#Set the Hypothesis"
   ]
  },
  {
   "cell_type": "markdown",
   "id": "a3871799",
   "metadata": {},
   "source": [
    "###### Null Hypothesis H0: µ1 >= µ2 (Average sales before the advertisement is equal or greater than  Average sales after advertisement)\n",
    "###### Alternative Hypothesis HA: µ1 < µ2 (Average sales after the advertisement is greater than  Average sales before advertisement)"
   ]
  },
  {
   "cell_type": "code",
   "execution_count": 94,
   "id": "515e8725",
   "metadata": {},
   "outputs": [],
   "source": [
    "#It goes on to say that scipy always gives the test statistic as signed. \n",
    "#This means that given p and t values from a two-tailed test, \n",
    "#you would reject the null hypothesis of a greater-than test when p/2 < alpha and t > 0,\n",
    "#and of a less-than test when p/2 < alpha and t < 0."
   ]
  },
  {
   "cell_type": "code",
   "execution_count": 41,
   "id": "7f8baaf4",
   "metadata": {},
   "outputs": [
    {
     "name": "stdout",
     "output_type": "stream",
     "text": [
      "210329900.67975205 623460269.4710745\n"
     ]
    }
   ],
   "source": [
    "print(np.var(salesBeforeAd), np.var(salesAfterAd))"
   ]
  },
  {
   "cell_type": "code",
   "execution_count": 88,
   "id": "3737e5da",
   "metadata": {},
   "outputs": [],
   "source": [
    "# Execute One tailed two sample t-Test"
   ]
  },
  {
   "cell_type": "code",
   "execution_count": 142,
   "id": "30e30d83",
   "metadata": {},
   "outputs": [
    {
     "data": {
      "text/plain": [
       "Ttest_indResult(statistic=12.995084451110877, pvalue=2.614368006904645e-16)"
      ]
     },
     "execution_count": 142,
     "metadata": {},
     "output_type": "execute_result"
    }
   ],
   "source": [
    "#stats.ttest_ind(a=salesBeforeAd, b=salesAfterAd, equal_var=True)\n",
    "stats.ttest_ind(a=salesAfterAd, b=salesBeforeAd, equal_var=True)"
   ]
  },
  {
   "cell_type": "code",
   "execution_count": 155,
   "id": "04d55bef",
   "metadata": {},
   "outputs": [
    {
     "name": "stdout",
     "output_type": "stream",
     "text": [
      "The p value is  0.0\n",
      "The p value is  1.3071840034523225e-16\n"
     ]
    }
   ],
   "source": [
    "#test = stats.ttest_ind(a=salesBeforeAd, b=salesAfterAd, equal_var=True)\n",
    "test = stats.ttest_ind(a=salesAfterAd, b=salesBeforeAd)\n",
    "print('The p value is ',float(\"{:.10f}\".format(test.pvalue/2)))\n",
    "print('The p value is ',(test.pvalue/2))"
   ]
  },
  {
   "cell_type": "markdown",
   "id": "2598d0e4",
   "metadata": {},
   "source": [
    "Because the p-value of our test (1.3071840034523225e-16) is less than alpha = 0.05, we can reject the null hypothesis of the test. \n",
    "We can say that the average sales after the advertisement is greater than Average sales before advertisement"
   ]
  },
  {
   "cell_type": "code",
   "execution_count": 156,
   "id": "fedac2b9",
   "metadata": {},
   "outputs": [
    {
     "name": "stdout",
     "output_type": "stream",
     "text": [
      "dof=42\n"
     ]
    }
   ],
   "source": [
    "prob = 0.95\n",
    "df=salesBeforeAd.size+salesAfterAd.size-2\n",
    "print('dof=%d' % df)\n",
    "critical = stats.t.ppf(prob, df)"
   ]
  },
  {
   "cell_type": "code",
   "execution_count": 157,
   "id": "8ed8a3d6",
   "metadata": {},
   "outputs": [
    {
     "name": "stdout",
     "output_type": "stream",
     "text": [
      "probability=0.950, critical=1.682, stat=12.995\n",
      "Conclusion - Since critical-value(=1.681952) < t-value(=13.00) , We reject the null hypothesis H0. \n",
      "\n",
      "So we conclude that the Average sales after the advertisement is greater than  Average sales before advertisement. So there is an increase in sales after stepping into digital marketing.\n",
      "\n",
      "\n",
      "significance=0.050, p=0.000\n",
      "Conclusion - Since p-value(=0.000000) < alpha(=0.05) , We reject the null hypothesis H0. \n",
      "\n",
      "So we conclude that the Average sales after the advertisement is greater than  Average sales before advertisement.\n",
      "So there is an increase in sales after stepping into digital marketing\n"
     ]
    }
   ],
   "source": [
    "\n",
    "# interpret test-statistic\n",
    "#print('Test statistic is %f'%float(\"{:.6f}\".format(test.statistic)))\n",
    "print('probability=%.3f, critical=%.3f, stat=%.3f' % (prob, critical, test.statistic))\n",
    "if abs(test.statistic) >= critical:\n",
    "     print('Conclusion','-','Since critical-value(=%f)'%critical,'<','t-value(=%.2f)'%abs(test.statistic),''', We reject the null hypothesis H0. \n",
    "\n",
    "So we conclude that the Average sales after the advertisement is greater than  Average sales before advertisement. So there is an increase in sales after stepping into digital marketing.''')\n",
    "\n",
    "\n",
    "else:\n",
    "     print('Conclusion','-','Since critical-value(=%f)'%critical,'>','t-value(=%.2f)'%abs(test.statistic),''', We do not reject the null hypothesis H0. \n",
    "\n",
    "So we conclude that the Average sales before the advertisement is equal or greater than  Average sales after advertisement.''')\n",
    "\n",
    "print('\\n')\n",
    "# interpret p-value\n",
    "#print('p-value for one_tailed_test is %f'%one_tailed_p_value)\n",
    "one_tailed_p_value=float(\"{:.6f}\".format(test.pvalue/2)) \n",
    "alpha = 0.05\n",
    "print('significance=%.3f, p=%.3f' % (alpha, one_tailed_p_value))\n",
    "if one_tailed_p_value<=alpha:\n",
    "\n",
    "    print('Conclusion','-','Since p-value(=%f)'%one_tailed_p_value,'<','alpha(=%.2f)'%alpha,''', We reject the null hypothesis H0. \n",
    "\n",
    "So we conclude that the Average sales after the advertisement is greater than  Average sales before advertisement.''')\n",
    "    print('So there is an increase in sales after stepping into digital marketing')\n",
    "else:\n",
    "\n",
    "    print('Conclusion','-','Since p-value(=%f)'%one_tailed_p_value,'>','alpha(=%.2f)'%alpha,''', We do not reject the null hypothesis H0. \n",
    "\n",
    "So we conclude that the Average sales before the advertisement is equal or greater than  Average sales after advertisement.''')"
   ]
  },
  {
   "cell_type": "markdown",
   "id": "5c66829f",
   "metadata": {},
   "source": [
    "## Check whether there is any dependency between the features “Region” and “Manager”."
   ]
  },
  {
   "cell_type": "code",
   "execution_count": 135,
   "id": "0e00af1a",
   "metadata": {},
   "outputs": [],
   "source": [
    "#Chi-Square Test of Independence "
   ]
  },
  {
   "cell_type": "code",
   "execution_count": 84,
   "id": "9d16506f",
   "metadata": {},
   "outputs": [],
   "source": [
    "#Create cross tab of the two features"
   ]
  },
  {
   "cell_type": "code",
   "execution_count": 67,
   "id": "0a7e7f17",
   "metadata": {},
   "outputs": [],
   "source": [
    "sbData= data.drop([\"Sales_After_digital_add(in $)\",\"Month\"],axis=1)\n",
    "crosstab = pd.crosstab(sbData[\"Region\"], sbData[\"Manager\"])"
   ]
  },
  {
   "cell_type": "code",
   "execution_count": 68,
   "id": "4450cf66",
   "metadata": {},
   "outputs": [
    {
     "data": {
      "text/html": [
       "<div>\n",
       "<style scoped>\n",
       "    .dataframe tbody tr th:only-of-type {\n",
       "        vertical-align: middle;\n",
       "    }\n",
       "\n",
       "    .dataframe tbody tr th {\n",
       "        vertical-align: top;\n",
       "    }\n",
       "\n",
       "    .dataframe thead th {\n",
       "        text-align: right;\n",
       "    }\n",
       "</style>\n",
       "<table border=\"1\" class=\"dataframe\">\n",
       "  <thead>\n",
       "    <tr style=\"text-align: right;\">\n",
       "      <th>Manager</th>\n",
       "      <th>Manager - A</th>\n",
       "      <th>Manager - B</th>\n",
       "      <th>Manager - C</th>\n",
       "    </tr>\n",
       "    <tr>\n",
       "      <th>Region</th>\n",
       "      <th></th>\n",
       "      <th></th>\n",
       "      <th></th>\n",
       "    </tr>\n",
       "  </thead>\n",
       "  <tbody>\n",
       "    <tr>\n",
       "      <th>Region - A</th>\n",
       "      <td>4</td>\n",
       "      <td>3</td>\n",
       "      <td>3</td>\n",
       "    </tr>\n",
       "    <tr>\n",
       "      <th>Region - B</th>\n",
       "      <td>4</td>\n",
       "      <td>1</td>\n",
       "      <td>2</td>\n",
       "    </tr>\n",
       "    <tr>\n",
       "      <th>Region - C</th>\n",
       "      <td>1</td>\n",
       "      <td>3</td>\n",
       "      <td>1</td>\n",
       "    </tr>\n",
       "  </tbody>\n",
       "</table>\n",
       "</div>"
      ],
      "text/plain": [
       "Manager     Manager - A  Manager - B  Manager - C\n",
       "Region                                           \n",
       "Region - A            4            3            3\n",
       "Region - B            4            1            2\n",
       "Region - C            1            3            1"
      ]
     },
     "execution_count": 68,
     "metadata": {},
     "output_type": "execute_result"
    }
   ],
   "source": [
    "crosstab"
   ]
  },
  {
   "cell_type": "code",
   "execution_count": 132,
   "id": "b9c5eb23",
   "metadata": {},
   "outputs": [],
   "source": [
    "#Set the Hypothesis"
   ]
  },
  {
   "cell_type": "markdown",
   "id": "3fb0e4eb",
   "metadata": {},
   "source": [
    "#### H0: (null hypothesis) The two variables (Region and Manger) are independent.\n",
    "#### H1: (alternative hypothesis) The two variables (Region and Manger) are not independent."
   ]
  },
  {
   "cell_type": "code",
   "execution_count": 87,
   "id": "337f9f8b",
   "metadata": {},
   "outputs": [
    {
     "data": {
      "text/plain": [
       "(3.050566893424036,\n",
       " 0.5493991051158094,\n",
       " 4,\n",
       " array([[4.09090909, 3.18181818, 2.72727273],\n",
       "        [2.86363636, 2.22727273, 1.90909091],\n",
       "        [2.04545455, 1.59090909, 1.36363636]]))"
      ]
     },
     "execution_count": 87,
     "metadata": {},
     "output_type": "execute_result"
    }
   ],
   "source": [
    "#Execute Chi-Square Test of Independence \n",
    "stats.chi2_contingency(crosstab)\n",
    "\n",
    "#The information is returned within a tuple where the first value is the χ2 test static, \n",
    "#the second value is the p-value, and the third number is the degrees of freedom. \n",
    "#An array is also returned which contains the expected cell counts."
   ]
  },
  {
   "cell_type": "markdown",
   "id": "525115df",
   "metadata": {},
   "source": [
    "\n",
    "Since the p-value (.549) of the test is greater than 0.05, we fail to reject the null hypothesis. This means we do not have sufficient evidence to say that there is an association between Region and Manager."
   ]
  },
  {
   "cell_type": "code",
   "execution_count": 116,
   "id": "70b60092",
   "metadata": {},
   "outputs": [
    {
     "name": "stdout",
     "output_type": "stream",
     "text": [
      "dof=4\n",
      "[[4.09090909 3.18181818 2.72727273]\n",
      " [2.86363636 2.22727273 1.90909091]\n",
      " [2.04545455 1.59090909 1.36363636]]\n",
      "\n",
      "\n",
      "probability=0.950, critical=9.488, stat=3.051\n",
      "Independent (fail to reject H0), No dependency between the features “Region” and “Manager”\n",
      "\n",
      "\n",
      "significance=0.050, p=0.549\n",
      "Independent (fail to reject H0), No dependency between the features “Region” and “Manager”\n"
     ]
    }
   ],
   "source": [
    "\n",
    "stat, p, dof, expected = stats.chi2_contingency(crosstab)\n",
    "print('dof=%d' % dof)\n",
    "print(expected)\n",
    "# interpret test-statistic\n",
    "prob = 0.95\n",
    "critical = stats.chi2.ppf(prob, dof)\n",
    "print('\\n')\n",
    "print('probability=%.3f, critical=%.3f, stat=%.3f' % (prob, critical, stat))\n",
    "if abs(stat) >= critical:\n",
    "    print('Dependent (reject H0),There is dependency between the features “Region” and “Manager”')\n",
    "else:\n",
    "    print('Independent (fail to reject H0), No dependency between the features “Region” and “Manager”')\n",
    "print('\\n')\n",
    "# interpret p-value\n",
    "alpha = 1.0 - prob\n",
    "print('significance=%.3f, p=%.3f' % (alpha, p))\n",
    "if p <= alpha:\n",
    "    print('Dependent (reject H0),There is dependency between the features “Region” and “Manager”')\n",
    "else:\n",
    "    print('Independent (fail to reject H0), No dependency between the features “Region” and “Manager”')"
   ]
  },
  {
   "cell_type": "code",
   "execution_count": null,
   "id": "555d9fd6",
   "metadata": {},
   "outputs": [],
   "source": []
  }
 ],
 "metadata": {
  "kernelspec": {
   "display_name": "Python 3",
   "language": "python",
   "name": "python3"
  },
  "language_info": {
   "codemirror_mode": {
    "name": "ipython",
    "version": 3
   },
   "file_extension": ".py",
   "mimetype": "text/x-python",
   "name": "python",
   "nbconvert_exporter": "python",
   "pygments_lexer": "ipython3",
   "version": "3.8.8"
  }
 },
 "nbformat": 4,
 "nbformat_minor": 5
}
